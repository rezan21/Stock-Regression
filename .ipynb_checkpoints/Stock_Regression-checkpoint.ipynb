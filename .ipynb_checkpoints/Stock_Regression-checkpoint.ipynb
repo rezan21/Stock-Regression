{
 "cells": [
  {
   "cell_type": "code",
   "execution_count": 1,
   "metadata": {},
   "outputs": [],
   "source": [
    "import os\n",
    "os.environ[\"CUDA_VISIBLE_DEVICES\"] = \"-1\" # disable GPU\n",
    "import pandas_datareader.data as web\n",
    "import matplotlib.pyplot as plt\n",
    "import pandas as pd\n",
    "import datetime\n",
    "import numpy as np\n",
    "import seaborn as sns\n",
    "\n",
    "# processing / validation\n",
    "from sklearn.model_selection import train_test_split\n",
    "from sklearn.preprocessing import MinMaxScaler\n",
    "\n",
    "# keras/tf\n",
    "import tensorflow as tf\n",
    "from tensorflow.keras.models import Sequential\n",
    "from tensorflow.keras.layers import Dense, Activation, Dropout\n",
    "\n",
    "# models\n",
    "from sklearn import svm\n",
    "from sklearn.ensemble import GradientBoostingRegressor\n",
    "from sklearn import tree\n",
    "from sklearn.ensemble import VotingRegressor\n",
    "\n",
    "# metrics\n",
    "from sklearn.metrics import mean_squared_error\n",
    "from sklearn.metrics import r2_score\n",
    "\n",
    "# constant seed for reproducibility\n",
    "SEED = 111 \n",
    "os.environ['PYTHONHASHSEED'] = str(SEED)\n",
    "np.random.seed(SEED)\n",
    "tf.random.set_seed(SEED)\n",
    "\n",
    "# cpu workers\n",
    "WORKERS = 6 "
   ]
  },
  {
   "cell_type": "code",
   "execution_count": 2,
   "metadata": {},
   "outputs": [],
   "source": [
    "tickers = [\"ASIANPAINT.NS\",\"ADANIPORTS.NS\",\"AXISBANK.NS\",\"BAJAJ-AUTO.NS\",\n",
    "           \"BAJFINANCE.NS\",\"BAJAJFINSV.NS\",\"BPCL.NS\",\"BHARTIARTL.NS\",\n",
    "           \"INFRATEL.NS\",\"CIPLA.NS\",\"COALINDIA.NS\",\"DRREDDY.NS\",\"EICHERMOT.NS\",\n",
    "           \"GAIL.NS\",\"GRASIM.NS\",\"HCLTECH.NS\",\"HDFCBANK.NS\",\"HEROMOTOCO.NS\",\n",
    "           \"HINDALCO.NS\",\"HINDPETRO.NS\",\"HINDUNILVR.NS\",\"HDFC.NS\",\"ITC.NS\",\n",
    "           \"ICICIBANK.NS\",\"IBULHSGFIN.NS\",\"IOC.NS\",\"INDUSINDBK.NS\",\"INFY.NS\",\n",
    "           \n",
    "           \n",
    "           #\"KOTAKBANK.NS\",\"LT.NS\",\"LUPIN.NS\",\"M&M.NS\",\"MARUTI.NS\",\"NTPC.NS\",\n",
    "           #\"ONGC.NS\",\"POWERGRID.NS\",\"RELIANCE.NS\",\"SBIN.NS\",\"SUNPHARMA.NS\",\n",
    "           #\"TCS.NS\",\"TATAMOTORS.NS\",\"TATASTEEL.NS\",\"TECHM.NS\",\"TITAN.NS\",\n",
    "           #\"UPL.NS\",\"ULTRACEMCO.NS\",\"VEDL.NS\",\"WIPRO.NS\",\"YESBANK.NS\",\"ZEEL.NS\"\n",
    "           \n",
    "           ]\n",
    "\n",
    "df = pd.DataFrame() \n",
    "attempt = 0\n",
    "drop = []\n",
    "while len(tickers) != 0 and attempt <= 5:\n",
    "    tickers = [j for j in tickers if j not in drop] \n",
    "    for i in range(len(tickers)):\n",
    "        try:\n",
    "            temp = web.get_data_yahoo(tickers[i],datetime.date.today() - datetime.timedelta(365*1), # reduce delta\n",
    "                                      datetime.date.today())\n",
    "            \n",
    "            temp.dropna(inplace = True)\n",
    "            df[tickers[i]] = temp[\"Adj Close\"]\n",
    "            drop.append(tickers[i])       \n",
    "        except:\n",
    "            print(tickers[i],\" :failed to fetch data...retrying\")\n",
    "            continue\n",
    "    attempt+=1\n",
    "    \n",
    "\n",
    "df.rename( {\"ASIANPAINT.NS\":\"target\"},axis=1, inplace=True)\n",
    "df.dropna(inplace=True, axis=1, how='any')"
   ]
  },
  {
   "cell_type": "code",
   "execution_count": 19,
   "metadata": {},
   "outputs": [
    {
     "name": "stdout",
     "output_type": "stream",
     "text": [
      "X_train shape:(145, 26)\n"
     ]
    }
   ],
   "source": [
    "X = df.drop(\"target\", axis=1).values\n",
    "y = df[\"target\"].values\n",
    "\n",
    "X_train, X_test, y_train, y_test = train_test_split(X, y, test_size=0.4, random_state=SEED)\n",
    "print(f\"X_train shape:{X_train.shape}\")\n",
    "\n",
    "scaler = MinMaxScaler()\n",
    "X_train_scaled = scaler.fit_transform(X_train)\n",
    "X_test_scaled = scaler.transform(X_test)\n",
    "\n",
    "dnnReg = Sequential()\n",
    "\n",
    "dnnReg.add(Dense(100, activation=\"relu\"))\n",
    "dnnReg.add(Dense(100, activation=\"relu\"))\n",
    "dnnReg.add(Dense(100, activation=\"relu\"))\n",
    "dnnReg.add(Dense(1))\n",
    "\n",
    "dnnReg.compile(optimizer=\"adam\", loss=\"mse\")"
   ]
  },
  {
   "cell_type": "code",
   "execution_count": 20,
   "metadata": {
    "scrolled": true
   },
   "outputs": [
    {
     "name": "stdout",
     "output_type": "stream",
     "text": [
      "Train on 145 samples, validate on 97 samples\n",
      "Epoch 1/10\n",
      "145/145 [==============================] - 1s 9ms/sample - loss: 2514136.2466 - val_loss: 2426029.2332\n",
      "Epoch 2/10\n",
      "145/145 [==============================] - 0s 933us/sample - loss: 2511416.7000 - val_loss: 2423018.7191\n",
      "Epoch 3/10\n",
      "145/145 [==============================] - 0s 915us/sample - loss: 2507835.4276 - val_loss: 2418520.3041\n",
      "Epoch 4/10\n",
      "145/145 [==============================] - 0s 892us/sample - loss: 2502311.1517 - val_loss: 2411281.7113\n",
      "Epoch 5/10\n",
      "145/145 [==============================] - 0s 948us/sample - loss: 2493297.4345 - val_loss: 2399315.0296\n",
      "Epoch 6/10\n",
      "145/145 [==============================] - 0s 922us/sample - loss: 2478413.5552 - val_loss: 2379833.5928\n",
      "Epoch 7/10\n",
      "145/145 [==============================] - 0s 863us/sample - loss: 2454342.1707 - val_loss: 2348771.3144\n",
      "Epoch 8/10\n",
      "145/145 [==============================] - 0s 908us/sample - loss: 2416778.1879 - val_loss: 2300734.1830\n",
      "Epoch 9/10\n",
      "145/145 [==============================] - 0s 884us/sample - loss: 2358793.5155 - val_loss: 2229133.9742\n",
      "Epoch 10/10\n",
      "145/145 [==============================] - 0s 860us/sample - loss: 2274204.8741 - val_loss: 2126021.1430\n"
     ]
    },
    {
     "data": {
      "text/plain": [
       "<matplotlib.axes._subplots.AxesSubplot at 0x1a4f69fcd0>"
      ]
     },
     "execution_count": 20,
     "metadata": {},
     "output_type": "execute_result"
    },
    {
     "data": {
      "image/png": "[encoded data removed]",
      "text/plain": [
       "<Figure size 432x288 with 1 Axes>"
      ]
     },
     "metadata": {
      "needs_background": "light"
     },
     "output_type": "display_data"
    }
   ],
   "source": [
    "dnnReg.fit(x=X_train_scaled, y=y_train, epochs=10,validation_data=(X_test_scaled,y_test),use_multiprocessing=True, workers=WORKERS)\n",
    "pd.DataFrame(dnnReg.history.history).plot()"
   ]
  },
  {
   "cell_type": "code",
   "execution_count": 22,
   "metadata": {},
   "outputs": [
    {
     "name": "stdout",
     "output_type": "stream",
     "text": [
      "196101323578.8735\n",
      "-7024720.072456295\n"
     ]
    }
   ],
   "source": [
    "dnnPreds = dnnReg.predict(X_test)\n",
    "print(mean_squared_error(y_test, dnnPreds))\n",
    "print(r2_score(y_test, dnnPreds))"
   ]
  },
  {
   "cell_type": "code",
   "execution_count": 23,
   "metadata": {},
   "outputs": [
    {
     "name": "stdout",
     "output_type": "stream",
     "text": [
      "15261.011969159503\n",
      "0.4533216277673717\n"
     ]
    }
   ],
   "source": [
    "svmReg = svm.SVR(kernel='linear').fit(X_train, y_train)\n",
    "svmPreds = svmReg.predict(X_test)\n",
    "print(mean_squared_error(y_test, svmPreds))\n",
    "print(r2_score(y_test, svmPreds))"
   ]
  },
  {
   "cell_type": "code",
   "execution_count": 24,
   "metadata": {},
   "outputs": [
    {
     "name": "stdout",
     "output_type": "stream",
     "text": [
      "1279.0458195169401\n",
      "0.9541821546279163\n"
     ]
    }
   ],
   "source": [
    "gboostReg = GradientBoostingRegressor(n_estimators=1000, learning_rate=0.01, max_depth=1,  loss='ls', random_state=SEED).fit(X_train, y_train)\n",
    "gboostPredds = gboostReg.predict(X_test)\n",
    "print(mean_squared_error(y_test, gboostPredds))\n",
    "print(r2_score(y_test, gboostPredds))"
   ]
  },
  {
   "cell_type": "code",
   "execution_count": 26,
   "metadata": {},
   "outputs": [
    {
     "name": "stdout",
     "output_type": "stream",
     "text": [
      "1612.226897899484\n",
      "0.9422469769374088\n"
     ]
    }
   ],
   "source": [
    "dtReg = tree.DecisionTreeRegressor(random_state=SEED).fit(X_train, y_train)\n",
    "dtPredds = dtReg.predict(X_test)\n",
    "print(mean_squared_error(y_test, dtPredds))\n",
    "print(r2_score(y_test, dtPredds))"
   ]
  },
  {
   "cell_type": "code",
   "execution_count": 28,
   "metadata": {},
   "outputs": [
    {
     "name": "stdout",
     "output_type": "stream",
     "text": [
      "2699.3574747880784\n",
      "0.9033038992844459\n"
     ]
    }
   ],
   "source": [
    "ensReg = VotingRegressor(estimators=\n",
    "                         [\n",
    "                             ('svmReg', svmReg),\n",
    "                             ('gboost', gboostReg),\n",
    "                             ('dtReg', dtReg)\n",
    "                         ]\n",
    "                        ).fit(X_train, y_train)\n",
    "print(mean_squared_error(y_test, ensReg.predict(X_test)))\n",
    "print(r2_score(y_test, ensReg.predict(X_test)))"
   ]
  },
  {
   "cell_type": "code",
   "execution_count": null,
   "metadata": {},
   "outputs": [],
   "source": []
  }
 ],
 "metadata": {
  "kernelspec": {
   "display_name": "Python 3",
   "language": "python",
   "name": "python3"
  },
  "language_info": {
   "codemirror_mode": {
    "name": "ipython",
    "version": 3
   },
   "file_extension": ".py",
   "mimetype": "text/x-python",
   "name": "python",
   "nbconvert_exporter": "python",
   "pygments_lexer": "ipython3",
   "version": "3.7.4"
  }
 },
 "nbformat": 4,
 "nbformat_minor": 4
}
